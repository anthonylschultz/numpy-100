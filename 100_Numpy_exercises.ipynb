{
 "cells": [
  {
   "cell_type": "markdown",
   "metadata": {
    "toc": true
   },
   "source": [
    "<h1>Table of Contents<span class=\"tocSkip\"></span></h1>\n",
    "<div class=\"toc\"><ul class=\"toc-item\"><li><span><a href=\"#100-numpy-exercises\" data-toc-modified-id=\"100-numpy-exercises-1\"><span class=\"toc-item-num\">1&nbsp;&nbsp;</span>100 numpy exercises</a></span><ul class=\"toc-item\"><li><ul class=\"toc-item\"><li><ul class=\"toc-item\"><li><span><a href=\"#1.-Import-the-numpy-package-under-the-name-np-(★☆☆)\" data-toc-modified-id=\"1.-Import-the-numpy-package-under-the-name-np-(★☆☆)-1.0.0.1\"><span class=\"toc-item-num\">1.0.0.1&nbsp;&nbsp;</span>1. Import the numpy package under the name <code>np</code> (★☆☆)</a></span></li><li><span><a href=\"#2.-Print-the-numpy-version-and-the-configuration-(★☆☆)\" data-toc-modified-id=\"2.-Print-the-numpy-version-and-the-configuration-(★☆☆)-1.0.0.2\"><span class=\"toc-item-num\">1.0.0.2&nbsp;&nbsp;</span>2. Print the numpy version and the configuration (★☆☆)</a></span></li><li><span><a href=\"#3.-Create-a-null-vector-of-size-10-(★☆☆)\" data-toc-modified-id=\"3.-Create-a-null-vector-of-size-10-(★☆☆)-1.0.0.3\"><span class=\"toc-item-num\">1.0.0.3&nbsp;&nbsp;</span>3. Create a null vector of size 10 (★☆☆)</a></span></li><li><span><a href=\"#4.-How-to-find-the-memory-size-of-any-array-(★☆☆)\" data-toc-modified-id=\"4.-How-to-find-the-memory-size-of-any-array-(★☆☆)-1.0.0.4\"><span class=\"toc-item-num\">1.0.0.4&nbsp;&nbsp;</span>4. How to find the memory size of any array (★☆☆)</a></span></li><li><span><a href=\"#5.-How-to-get-the-documentation-of-the-numpy-add-function-from-the-command-line?-(★☆☆)\" data-toc-modified-id=\"5.-How-to-get-the-documentation-of-the-numpy-add-function-from-the-command-line?-(★☆☆)-1.0.0.5\"><span class=\"toc-item-num\">1.0.0.5&nbsp;&nbsp;</span>5. How to get the documentation of the numpy add function from the command line? (★☆☆)</a></span></li><li><span><a href=\"#6.-Create-a-null-vector-of-size-10-but-the-fifth-value-which-is-1-(★☆☆)\" data-toc-modified-id=\"6.-Create-a-null-vector-of-size-10-but-the-fifth-value-which-is-1-(★☆☆)-1.0.0.6\"><span class=\"toc-item-num\">1.0.0.6&nbsp;&nbsp;</span>6. Create a null vector of size 10 but the fifth value which is 1 (★☆☆)</a></span></li><li><span><a href=\"#7.-Create-a-vector-with-values-ranging-from-10-to-49-(★☆☆)\" data-toc-modified-id=\"7.-Create-a-vector-with-values-ranging-from-10-to-49-(★☆☆)-1.0.0.7\"><span class=\"toc-item-num\">1.0.0.7&nbsp;&nbsp;</span>7. Create a vector with values ranging from 10 to 49 (★☆☆)</a></span></li><li><span><a href=\"#8.-Reverse-a-vector-(first-element-becomes-last)-(★☆☆)\" data-toc-modified-id=\"8.-Reverse-a-vector-(first-element-becomes-last)-(★☆☆)-1.0.0.8\"><span class=\"toc-item-num\">1.0.0.8&nbsp;&nbsp;</span>8. Reverse a vector (first element becomes last) (★☆☆)</a></span></li><li><span><a href=\"#9.-Create-a-3x3-matrix-with-values-ranging-from-0-to-8-(★☆☆)\" data-toc-modified-id=\"9.-Create-a-3x3-matrix-with-values-ranging-from-0-to-8-(★☆☆)-1.0.0.9\"><span class=\"toc-item-num\">1.0.0.9&nbsp;&nbsp;</span>9. Create a 3x3 matrix with values ranging from 0 to 8 (★☆☆)</a></span></li><li><span><a href=\"#10.-Find-indices-of-non-zero-elements-from-[1,2,0,0,4,0]-(★☆☆)\" data-toc-modified-id=\"10.-Find-indices-of-non-zero-elements-from-[1,2,0,0,4,0]-(★☆☆)-1.0.0.10\"><span class=\"toc-item-num\">1.0.0.10&nbsp;&nbsp;</span>10. Find indices of non-zero elements from [1,2,0,0,4,0] (★☆☆)</a></span></li><li><span><a href=\"#11.-Create-a-3x3-identity-matrix-(★☆☆)\" data-toc-modified-id=\"11.-Create-a-3x3-identity-matrix-(★☆☆)-1.0.0.11\"><span class=\"toc-item-num\">1.0.0.11&nbsp;&nbsp;</span>11. Create a 3x3 identity matrix (★☆☆)</a></span></li><li><span><a href=\"#12.-Create-a-3x3x3-array-with-random-values-(★☆☆)\" data-toc-modified-id=\"12.-Create-a-3x3x3-array-with-random-values-(★☆☆)-1.0.0.12\"><span class=\"toc-item-num\">1.0.0.12&nbsp;&nbsp;</span>12. Create a 3x3x3 array with random values (★☆☆)</a></span></li><li><span><a href=\"#13.-Create-a-10x10-array-with-random-values-and-find-the-minimum-and-maximum-values-(★☆☆)\" data-toc-modified-id=\"13.-Create-a-10x10-array-with-random-values-and-find-the-minimum-and-maximum-values-(★☆☆)-1.0.0.13\"><span class=\"toc-item-num\">1.0.0.13&nbsp;&nbsp;</span>13. Create a 10x10 array with random values and find the minimum and maximum values (★☆☆)</a></span></li><li><span><a href=\"#14.-Create-a-random-vector-of-size-30-and-find-the-mean-value-(★☆☆)\" data-toc-modified-id=\"14.-Create-a-random-vector-of-size-30-and-find-the-mean-value-(★☆☆)-1.0.0.14\"><span class=\"toc-item-num\">1.0.0.14&nbsp;&nbsp;</span>14. Create a random vector of size 30 and find the mean value (★☆☆)</a></span></li><li><span><a href=\"#15.-Create-a-2d-array-with-1-on-the-border-and-0-inside-(★☆☆)\" data-toc-modified-id=\"15.-Create-a-2d-array-with-1-on-the-border-and-0-inside-(★☆☆)-1.0.0.15\"><span class=\"toc-item-num\">1.0.0.15&nbsp;&nbsp;</span>15. Create a 2d array with 1 on the border and 0 inside (★☆☆)</a></span></li><li><span><a href=\"#16.-How-to-add-a-border-(filled-with-0's)-around-an-existing-array?-(★☆☆)\" data-toc-modified-id=\"16.-How-to-add-a-border-(filled-with-0's)-around-an-existing-array?-(★☆☆)-1.0.0.16\"><span class=\"toc-item-num\">1.0.0.16&nbsp;&nbsp;</span>16. How to add a border (filled with 0's) around an existing array? (★☆☆)</a></span></li><li><span><a href=\"#17.-What-is-the-result-of-the-following-expression?-(★☆☆)\" data-toc-modified-id=\"17.-What-is-the-result-of-the-following-expression?-(★☆☆)-1.0.0.17\"><span class=\"toc-item-num\">1.0.0.17&nbsp;&nbsp;</span>17. What is the result of the following expression? (★☆☆)</a></span></li><li><span><a href=\"#18.-Create-a-5x5-matrix-with-values-1,2,3,4-just-below-the-diagonal-(★☆☆)\" data-toc-modified-id=\"18.-Create-a-5x5-matrix-with-values-1,2,3,4-just-below-the-diagonal-(★☆☆)-1.0.0.18\"><span class=\"toc-item-num\">1.0.0.18&nbsp;&nbsp;</span>18. Create a 5x5 matrix with values 1,2,3,4 just below the diagonal (★☆☆)</a></span></li><li><span><a href=\"#19.-Create-a-8x8-matrix-and-fill-it-with-a-checkerboard-pattern-(★☆☆)\" data-toc-modified-id=\"19.-Create-a-8x8-matrix-and-fill-it-with-a-checkerboard-pattern-(★☆☆)-1.0.0.19\"><span class=\"toc-item-num\">1.0.0.19&nbsp;&nbsp;</span>19. Create a 8x8 matrix and fill it with a checkerboard pattern (★☆☆)</a></span></li><li><span><a href=\"#20.-Consider-a-(6,7,8)-shape-array,-what-is-the-index-(x,y,z)-of-the-100th-element?\" data-toc-modified-id=\"20.-Consider-a-(6,7,8)-shape-array,-what-is-the-index-(x,y,z)-of-the-100th-element?-1.0.0.20\"><span class=\"toc-item-num\">1.0.0.20&nbsp;&nbsp;</span>20. Consider a (6,7,8) shape array, what is the index (x,y,z) of the 100th element?</a></span></li><li><span><a href=\"#21.-Create-a-checkerboard-8x8-matrix-using-the-tile-function-(★☆☆)\" data-toc-modified-id=\"21.-Create-a-checkerboard-8x8-matrix-using-the-tile-function-(★☆☆)-1.0.0.21\"><span class=\"toc-item-num\">1.0.0.21&nbsp;&nbsp;</span>21. Create a checkerboard 8x8 matrix using the tile function (★☆☆)</a></span></li><li><span><a href=\"#22.-Normalize-a-5x5-random-matrix-(★☆☆)\" data-toc-modified-id=\"22.-Normalize-a-5x5-random-matrix-(★☆☆)-1.0.0.22\"><span class=\"toc-item-num\">1.0.0.22&nbsp;&nbsp;</span>22. Normalize a 5x5 random matrix (★☆☆)</a></span></li><li><span><a href=\"#23.-Create-a-custom-dtype-that-describes-a-color-as-four-unsigned-bytes-(RGBA)-(★☆☆)\" data-toc-modified-id=\"23.-Create-a-custom-dtype-that-describes-a-color-as-four-unsigned-bytes-(RGBA)-(★☆☆)-1.0.0.23\"><span class=\"toc-item-num\">1.0.0.23&nbsp;&nbsp;</span>23. Create a custom dtype that describes a color as four unsigned bytes (RGBA) (★☆☆)</a></span></li><li><span><a href=\"#24.-Multiply-a-5x3-matrix-by-a-3x2-matrix-(real-matrix-product)-(★☆☆)\" data-toc-modified-id=\"24.-Multiply-a-5x3-matrix-by-a-3x2-matrix-(real-matrix-product)-(★☆☆)-1.0.0.24\"><span class=\"toc-item-num\">1.0.0.24&nbsp;&nbsp;</span>24. Multiply a 5x3 matrix by a 3x2 matrix (real matrix product) (★☆☆)</a></span></li><li><span><a href=\"#25.-Given-a-1D-array,-negate-all-elements-which-are-between-3-and-8,-in-place.-(★☆☆)\" data-toc-modified-id=\"25.-Given-a-1D-array,-negate-all-elements-which-are-between-3-and-8,-in-place.-(★☆☆)-1.0.0.25\"><span class=\"toc-item-num\">1.0.0.25&nbsp;&nbsp;</span>25. Given a 1D array, negate all elements which are between 3 and 8, in place. (★☆☆)</a></span></li><li><span><a href=\"#26.-What-is-the-output-of-the-following-script?-(★☆☆)\" data-toc-modified-id=\"26.-What-is-the-output-of-the-following-script?-(★☆☆)-1.0.0.26\"><span class=\"toc-item-num\">1.0.0.26&nbsp;&nbsp;</span>26. What is the output of the following script? (★☆☆)</a></span></li><li><span><a href=\"#27.-Consider-an-integer-vector-Z,-which-of-these-expressions-are-legal?-(★☆☆)\" data-toc-modified-id=\"27.-Consider-an-integer-vector-Z,-which-of-these-expressions-are-legal?-(★☆☆)-1.0.0.27\"><span class=\"toc-item-num\">1.0.0.27&nbsp;&nbsp;</span>27. Consider an integer vector Z, which of these expressions are legal? (★☆☆)</a></span></li><li><span><a href=\"#28.-What-are-the-result-of-the-following-expressions?\" data-toc-modified-id=\"28.-What-are-the-result-of-the-following-expressions?-1.0.0.28\"><span class=\"toc-item-num\">1.0.0.28&nbsp;&nbsp;</span>28. What are the result of the following expressions?</a></span></li><li><span><a href=\"#29.-How-to-round-away-from-zero-a-float-array-?-(★☆☆)\" data-toc-modified-id=\"29.-How-to-round-away-from-zero-a-float-array-?-(★☆☆)-1.0.0.29\"><span class=\"toc-item-num\">1.0.0.29&nbsp;&nbsp;</span>29. How to round away from zero a float array ? (★☆☆)</a></span></li><li><span><a href=\"#30.-How-to-find-common-values-between-two-arrays?-(★☆☆)\" data-toc-modified-id=\"30.-How-to-find-common-values-between-two-arrays?-(★☆☆)-1.0.0.30\"><span class=\"toc-item-num\">1.0.0.30&nbsp;&nbsp;</span>30. How to find common values between two arrays? (★☆☆)</a></span></li><li><span><a href=\"#31.-How-to-ignore-all-numpy-warnings-(not-recommended)?-(★☆☆)\" data-toc-modified-id=\"31.-How-to-ignore-all-numpy-warnings-(not-recommended)?-(★☆☆)-1.0.0.31\"><span class=\"toc-item-num\">1.0.0.31&nbsp;&nbsp;</span>31. How to ignore all numpy warnings (not recommended)? (★☆☆)</a></span></li><li><span><a href=\"#32.-Is-the-following-expressions-true?-(★☆☆)\" data-toc-modified-id=\"32.-Is-the-following-expressions-true?-(★☆☆)-1.0.0.32\"><span class=\"toc-item-num\">1.0.0.32&nbsp;&nbsp;</span>32. Is the following expressions true? (★☆☆)</a></span></li><li><span><a href=\"#33.-How-to-get-the-dates-of-yesterday,-today-and-tomorrow?-(★☆☆)\" data-toc-modified-id=\"33.-How-to-get-the-dates-of-yesterday,-today-and-tomorrow?-(★☆☆)-1.0.0.33\"><span class=\"toc-item-num\">1.0.0.33&nbsp;&nbsp;</span>33. How to get the dates of yesterday, today and tomorrow? (★☆☆)</a></span></li><li><span><a href=\"#34.-How-to-get-all-the-dates-corresponding-to-the-month-of-July-2016?-(★★☆)\" data-toc-modified-id=\"34.-How-to-get-all-the-dates-corresponding-to-the-month-of-July-2016?-(★★☆)-1.0.0.34\"><span class=\"toc-item-num\">1.0.0.34&nbsp;&nbsp;</span>34. How to get all the dates corresponding to the month of July 2016? (★★☆)</a></span></li><li><span><a href=\"#35.-How-to-compute-((A+B)*(-A/2))-in-place-(without-copy)?-(★★☆)\" data-toc-modified-id=\"35.-How-to-compute-((A+B)*(-A/2))-in-place-(without-copy)?-(★★☆)-1.0.0.35\"><span class=\"toc-item-num\">1.0.0.35&nbsp;&nbsp;</span>35. How to compute ((A+B)*(-A/2)) in place (without copy)? (★★☆)</a></span></li><li><span><a href=\"#36.-Extract-the-integer-part-of-a-random-array-of-positive-numbers-using-4-different-methods-(★★☆)\" data-toc-modified-id=\"36.-Extract-the-integer-part-of-a-random-array-of-positive-numbers-using-4-different-methods-(★★☆)-1.0.0.36\"><span class=\"toc-item-num\">1.0.0.36&nbsp;&nbsp;</span>36. Extract the integer part of a random array of positive numbers using 4 different methods (★★☆)</a></span></li><li><span><a href=\"#37.-Create-a-5x5-matrix-with-row-values-ranging-from-0-to-4-(★★☆)\" data-toc-modified-id=\"37.-Create-a-5x5-matrix-with-row-values-ranging-from-0-to-4-(★★☆)-1.0.0.37\"><span class=\"toc-item-num\">1.0.0.37&nbsp;&nbsp;</span>37. Create a 5x5 matrix with row values ranging from 0 to 4 (★★☆)</a></span></li><li><span><a href=\"#38.-Consider-a-generator-function-that-generates-10-integers-and-use-it-to-build-an-array-(★☆☆)\" data-toc-modified-id=\"38.-Consider-a-generator-function-that-generates-10-integers-and-use-it-to-build-an-array-(★☆☆)-1.0.0.38\"><span class=\"toc-item-num\">1.0.0.38&nbsp;&nbsp;</span>38. Consider a generator function that generates 10 integers and use it to build an array (★☆☆)</a></span></li><li><span><a href=\"#39.-Create-a-vector-of-size-10-with-values-ranging-from-0-to-1,-both-excluded-(★★☆)\" data-toc-modified-id=\"39.-Create-a-vector-of-size-10-with-values-ranging-from-0-to-1,-both-excluded-(★★☆)-1.0.0.39\"><span class=\"toc-item-num\">1.0.0.39&nbsp;&nbsp;</span>39. Create a vector of size 10 with values ranging from 0 to 1, both excluded (★★☆)</a></span></li><li><span><a href=\"#40.-Create-a-random-vector-of-size-10-and-sort-it-(★★☆)\" data-toc-modified-id=\"40.-Create-a-random-vector-of-size-10-and-sort-it-(★★☆)-1.0.0.40\"><span class=\"toc-item-num\">1.0.0.40&nbsp;&nbsp;</span>40. Create a random vector of size 10 and sort it (★★☆)</a></span></li><li><span><a href=\"#41.-How-to-sum-a-small-array-faster-than-np.sum?-(★★☆)\" data-toc-modified-id=\"41.-How-to-sum-a-small-array-faster-than-np.sum?-(★★☆)-1.0.0.41\"><span class=\"toc-item-num\">1.0.0.41&nbsp;&nbsp;</span>41. How to sum a small array faster than np.sum? (★★☆)</a></span></li><li><span><a href=\"#42.-Consider-two-random-array-A-and-B,-check-if-they-are-equal-(★★☆)\" data-toc-modified-id=\"42.-Consider-two-random-array-A-and-B,-check-if-they-are-equal-(★★☆)-1.0.0.42\"><span class=\"toc-item-num\">1.0.0.42&nbsp;&nbsp;</span>42. Consider two random array A and B, check if they are equal (★★☆)</a></span></li><li><span><a href=\"#43.-Make-an-array-immutable-(read-only)-(★★☆)\" data-toc-modified-id=\"43.-Make-an-array-immutable-(read-only)-(★★☆)-1.0.0.43\"><span class=\"toc-item-num\">1.0.0.43&nbsp;&nbsp;</span>43. Make an array immutable (read-only) (★★☆)</a></span></li><li><span><a href=\"#44.-Consider-a-random-10x2-matrix-representing-cartesian-coordinates,-convert-them-to-polar-coordinates-(★★☆)\" data-toc-modified-id=\"44.-Consider-a-random-10x2-matrix-representing-cartesian-coordinates,-convert-them-to-polar-coordinates-(★★☆)-1.0.0.44\"><span class=\"toc-item-num\">1.0.0.44&nbsp;&nbsp;</span>44. Consider a random 10x2 matrix representing cartesian coordinates, convert them to polar coordinates (★★☆)</a></span></li><li><span><a href=\"#45.-Create-random-vector-of-size-10-and-replace-the-maximum-value-by-0-(★★☆)\" data-toc-modified-id=\"45.-Create-random-vector-of-size-10-and-replace-the-maximum-value-by-0-(★★☆)-1.0.0.45\"><span class=\"toc-item-num\">1.0.0.45&nbsp;&nbsp;</span>45. Create random vector of size 10 and replace the maximum value by 0 (★★☆)</a></span></li><li><span><a href=\"#46.-Create-a-structured-array-with-x-and-y-coordinates-covering-the-[0,1]x[0,1]-area-(★★☆)\" data-toc-modified-id=\"46.-Create-a-structured-array-with-x-and-y-coordinates-covering-the-[0,1]x[0,1]-area-(★★☆)-1.0.0.46\"><span class=\"toc-item-num\">1.0.0.46&nbsp;&nbsp;</span>46. Create a structured array with <code>x</code> and <code>y</code> coordinates covering the [0,1]x[0,1] area (★★☆)</a></span></li><li><span><a href=\"#47.-Given-two-arrays,-X-and-Y,-construct-the-Cauchy-matrix-C-(Cij-=1/(xi---yj))\" data-toc-modified-id=\"47.-Given-two-arrays,-X-and-Y,-construct-the-Cauchy-matrix-C-(Cij-=1/(xi---yj))-1.0.0.47\"><span class=\"toc-item-num\">1.0.0.47&nbsp;&nbsp;</span>47. Given two arrays, X and Y, construct the Cauchy matrix C (Cij =1/(xi - yj))</a></span></li><li><span><a href=\"#48.-Print-the-minimum-and-maximum-representable-value-for-each-numpy-scalar-type-(★★☆)\" data-toc-modified-id=\"48.-Print-the-minimum-and-maximum-representable-value-for-each-numpy-scalar-type-(★★☆)-1.0.0.48\"><span class=\"toc-item-num\">1.0.0.48&nbsp;&nbsp;</span>48. Print the minimum and maximum representable value for each numpy scalar type (★★☆)</a></span></li><li><span><a href=\"#49.-How-to-print-all-the-values-of-an-array?-(★★☆)\" data-toc-modified-id=\"49.-How-to-print-all-the-values-of-an-array?-(★★☆)-1.0.0.49\"><span class=\"toc-item-num\">1.0.0.49&nbsp;&nbsp;</span>49. How to print all the values of an array? (★★☆)</a></span></li><li><span><a href=\"#50.-How-to-find-the-closest-value-(to-a-given-scalar)-in-a-vector?-(★★☆)\" data-toc-modified-id=\"50.-How-to-find-the-closest-value-(to-a-given-scalar)-in-a-vector?-(★★☆)-1.0.0.50\"><span class=\"toc-item-num\">1.0.0.50&nbsp;&nbsp;</span>50. How to find the closest value (to a given scalar) in a vector? (★★☆)</a></span></li><li><span><a href=\"#51.-Create-a-structured-array-representing-a-position-(x,y)-and-a-color-(r,g,b)-(★★☆)\" data-toc-modified-id=\"51.-Create-a-structured-array-representing-a-position-(x,y)-and-a-color-(r,g,b)-(★★☆)-1.0.0.51\"><span class=\"toc-item-num\">1.0.0.51&nbsp;&nbsp;</span>51. Create a structured array representing a position (x,y) and a color (r,g,b) (★★☆)</a></span></li><li><span><a href=\"#52.-Consider-a-random-vector-with-shape-(100,2)-representing-coordinates,-find-point-by-point-distances-(★★☆)\" data-toc-modified-id=\"52.-Consider-a-random-vector-with-shape-(100,2)-representing-coordinates,-find-point-by-point-distances-(★★☆)-1.0.0.52\"><span class=\"toc-item-num\">1.0.0.52&nbsp;&nbsp;</span>52. Consider a random vector with shape (100,2) representing coordinates, find point by point distances (★★☆)</a></span></li><li><span><a href=\"#53.-How-to-convert-a-float-(32-bits)-array-into-an-integer-(32-bits)-in-place?\" data-toc-modified-id=\"53.-How-to-convert-a-float-(32-bits)-array-into-an-integer-(32-bits)-in-place?-1.0.0.53\"><span class=\"toc-item-num\">1.0.0.53&nbsp;&nbsp;</span>53. How to convert a float (32 bits) array into an integer (32 bits) in place?</a></span></li><li><span><a href=\"#54.-How-to-read-the-following-file?-(★★☆)\" data-toc-modified-id=\"54.-How-to-read-the-following-file?-(★★☆)-1.0.0.54\"><span class=\"toc-item-num\">1.0.0.54&nbsp;&nbsp;</span>54. How to read the following file? (★★☆)</a></span></li><li><span><a href=\"#55.-What-is-the-equivalent-of-enumerate-for-numpy-arrays?-(★★☆)\" data-toc-modified-id=\"55.-What-is-the-equivalent-of-enumerate-for-numpy-arrays?-(★★☆)-1.0.0.55\"><span class=\"toc-item-num\">1.0.0.55&nbsp;&nbsp;</span>55. What is the equivalent of enumerate for numpy arrays? (★★☆)</a></span></li><li><span><a href=\"#56.-Generate-a-generic-2D-Gaussian-like-array-(★★☆)\" data-toc-modified-id=\"56.-Generate-a-generic-2D-Gaussian-like-array-(★★☆)-1.0.0.56\"><span class=\"toc-item-num\">1.0.0.56&nbsp;&nbsp;</span>56. Generate a generic 2D Gaussian-like array (★★☆)</a></span></li><li><span><a href=\"#57.-How-to-randomly-place-p-elements-in-a-2D-array?-(★★☆)\" data-toc-modified-id=\"57.-How-to-randomly-place-p-elements-in-a-2D-array?-(★★☆)-1.0.0.57\"><span class=\"toc-item-num\">1.0.0.57&nbsp;&nbsp;</span>57. How to randomly place p elements in a 2D array? (★★☆)</a></span></li><li><span><a href=\"#58.-Subtract-the-mean-of-each-row-of-a-matrix-(★★☆)\" data-toc-modified-id=\"58.-Subtract-the-mean-of-each-row-of-a-matrix-(★★☆)-1.0.0.58\"><span class=\"toc-item-num\">1.0.0.58&nbsp;&nbsp;</span>58. Subtract the mean of each row of a matrix (★★☆)</a></span></li><li><span><a href=\"#59.-How-to-sort-an-array-by-the-nth-column?-(★★☆)\" data-toc-modified-id=\"59.-How-to-sort-an-array-by-the-nth-column?-(★★☆)-1.0.0.59\"><span class=\"toc-item-num\">1.0.0.59&nbsp;&nbsp;</span>59. How to sort an array by the nth column? (★★☆)</a></span></li><li><span><a href=\"#60.-How-to-tell-if-a-given-2D-array-has-null-columns?-(★★☆)\" data-toc-modified-id=\"60.-How-to-tell-if-a-given-2D-array-has-null-columns?-(★★☆)-1.0.0.60\"><span class=\"toc-item-num\">1.0.0.60&nbsp;&nbsp;</span>60. How to tell if a given 2D array has null columns? (★★☆)</a></span></li><li><span><a href=\"#61.-Find-the-nearest-value-from-a-given-value-in-an-array-(★★☆)\" data-toc-modified-id=\"61.-Find-the-nearest-value-from-a-given-value-in-an-array-(★★☆)-1.0.0.61\"><span class=\"toc-item-num\">1.0.0.61&nbsp;&nbsp;</span>61. Find the nearest value from a given value in an array (★★☆)</a></span></li><li><span><a href=\"#62.-Considering-two-arrays-with-shape-(1,3)-and-(3,1),-how-to-compute-their-sum-using-an-iterator?-(★★☆)\" data-toc-modified-id=\"62.-Considering-two-arrays-with-shape-(1,3)-and-(3,1),-how-to-compute-their-sum-using-an-iterator?-(★★☆)-1.0.0.62\"><span class=\"toc-item-num\">1.0.0.62&nbsp;&nbsp;</span>62. Considering two arrays with shape (1,3) and (3,1), how to compute their sum using an iterator? (★★☆)</a></span></li><li><span><a href=\"#63.-Create-an-array-class-that-has-a-name-attribute-(★★☆)\" data-toc-modified-id=\"63.-Create-an-array-class-that-has-a-name-attribute-(★★☆)-1.0.0.63\"><span class=\"toc-item-num\">1.0.0.63&nbsp;&nbsp;</span>63. Create an array class that has a name attribute (★★☆)</a></span></li><li><span><a href=\"#64.-Consider-a-given-vector,-how-to-add-1-to-each-element-indexed-by-a-second-vector-(be-careful-with-repeated-indices)?-(★★★)\" data-toc-modified-id=\"64.-Consider-a-given-vector,-how-to-add-1-to-each-element-indexed-by-a-second-vector-(be-careful-with-repeated-indices)?-(★★★)-1.0.0.64\"><span class=\"toc-item-num\">1.0.0.64&nbsp;&nbsp;</span>64. Consider a given vector, how to add 1 to each element indexed by a second vector (be careful with repeated indices)? (★★★)</a></span></li><li><span><a href=\"#65.-How-to-accumulate-elements-of-a-vector-(X)-to-an-array-(F)-based-on-an-index-list-(I)?-(★★★)\" data-toc-modified-id=\"65.-How-to-accumulate-elements-of-a-vector-(X)-to-an-array-(F)-based-on-an-index-list-(I)?-(★★★)-1.0.0.65\"><span class=\"toc-item-num\">1.0.0.65&nbsp;&nbsp;</span>65. How to accumulate elements of a vector (X) to an array (F) based on an index list (I)? (★★★)</a></span></li><li><span><a href=\"#66.-Considering-a-(w,h,3)-image-of-(dtype=ubyte),-compute-the-number-of-unique-colors-(★★★)\" data-toc-modified-id=\"66.-Considering-a-(w,h,3)-image-of-(dtype=ubyte),-compute-the-number-of-unique-colors-(★★★)-1.0.0.66\"><span class=\"toc-item-num\">1.0.0.66&nbsp;&nbsp;</span>66. Considering a (w,h,3) image of (dtype=ubyte), compute the number of unique colors (★★★)</a></span></li><li><span><a href=\"#67.-Considering-a-four-dimensions-array,-how-to-get-sum-over-the-last-two-axis-at-once?-(★★★)\" data-toc-modified-id=\"67.-Considering-a-four-dimensions-array,-how-to-get-sum-over-the-last-two-axis-at-once?-(★★★)-1.0.0.67\"><span class=\"toc-item-num\">1.0.0.67&nbsp;&nbsp;</span>67. Considering a four dimensions array, how to get sum over the last two axis at once? (★★★)</a></span></li><li><span><a href=\"#68.-Considering-a-one-dimensional-vector-D,-how-to-compute-means-of-subsets-of-D-using-a-vector-S-of-same-size-describing-subset--indices?-(★★★)\" data-toc-modified-id=\"68.-Considering-a-one-dimensional-vector-D,-how-to-compute-means-of-subsets-of-D-using-a-vector-S-of-same-size-describing-subset--indices?-(★★★)-1.0.0.68\"><span class=\"toc-item-num\">1.0.0.68&nbsp;&nbsp;</span>68. Considering a one-dimensional vector D, how to compute means of subsets of D using a vector S of same size describing subset  indices? (★★★)</a></span></li><li><span><a href=\"#69.-How-to-get-the-diagonal-of-a-dot-product?-(★★★)\" data-toc-modified-id=\"69.-How-to-get-the-diagonal-of-a-dot-product?-(★★★)-1.0.0.69\"><span class=\"toc-item-num\">1.0.0.69&nbsp;&nbsp;</span>69. How to get the diagonal of a dot product? (★★★)</a></span></li><li><span><a href=\"#70.-Consider-the-vector-[1,-2,-3,-4,-5],-how-to-build-a-new-vector-with-3-consecutive-zeros-interleaved-between-each-value?-(★★★)\" data-toc-modified-id=\"70.-Consider-the-vector-[1,-2,-3,-4,-5],-how-to-build-a-new-vector-with-3-consecutive-zeros-interleaved-between-each-value?-(★★★)-1.0.0.70\"><span class=\"toc-item-num\">1.0.0.70&nbsp;&nbsp;</span>70. Consider the vector [1, 2, 3, 4, 5], how to build a new vector with 3 consecutive zeros interleaved between each value? (★★★)</a></span></li><li><span><a href=\"#71.-Consider-an-array-of-dimension-(5,5,3),-how-to-mulitply-it-by-an-array-with-dimensions-(5,5)?-(★★★)\" data-toc-modified-id=\"71.-Consider-an-array-of-dimension-(5,5,3),-how-to-mulitply-it-by-an-array-with-dimensions-(5,5)?-(★★★)-1.0.0.71\"><span class=\"toc-item-num\">1.0.0.71&nbsp;&nbsp;</span>71. Consider an array of dimension (5,5,3), how to mulitply it by an array with dimensions (5,5)? (★★★)</a></span></li><li><span><a href=\"#72.-How-to-swap-two-rows-of-an-array?-(★★★)\" data-toc-modified-id=\"72.-How-to-swap-two-rows-of-an-array?-(★★★)-1.0.0.72\"><span class=\"toc-item-num\">1.0.0.72&nbsp;&nbsp;</span>72. How to swap two rows of an array? (★★★)</a></span></li><li><span><a href=\"#73.-Consider-a-set-of-10-triplets-describing-10-triangles-(with-shared-vertices),-find-the-set-of-unique-line-segments-composing-all-the--triangles-(★★★)\" data-toc-modified-id=\"73.-Consider-a-set-of-10-triplets-describing-10-triangles-(with-shared-vertices),-find-the-set-of-unique-line-segments-composing-all-the--triangles-(★★★)-1.0.0.73\"><span class=\"toc-item-num\">1.0.0.73&nbsp;&nbsp;</span>73. Consider a set of 10 triplets describing 10 triangles (with shared vertices), find the set of unique line segments composing all the  triangles (★★★)</a></span></li><li><span><a href=\"#74.-Given-an-array-C-that-is-a-bincount,-how-to-produce-an-array-A-such-that-np.bincount(A)-==-C?-(★★★)\" data-toc-modified-id=\"74.-Given-an-array-C-that-is-a-bincount,-how-to-produce-an-array-A-such-that-np.bincount(A)-==-C?-(★★★)-1.0.0.74\"><span class=\"toc-item-num\">1.0.0.74&nbsp;&nbsp;</span>74. Given an array C that is a bincount, how to produce an array A such that np.bincount(A) == C? (★★★)</a></span></li><li><span><a href=\"#75.-How-to-compute-averages-using-a-sliding-window-over-an-array?-(★★★)\" data-toc-modified-id=\"75.-How-to-compute-averages-using-a-sliding-window-over-an-array?-(★★★)-1.0.0.75\"><span class=\"toc-item-num\">1.0.0.75&nbsp;&nbsp;</span>75. How to compute averages using a sliding window over an array? (★★★)</a></span></li><li><span><a href=\"#76.-Consider-a-one-dimensional-array-Z,-build-a-two-dimensional-array-whose-first-row-is-(Z[0],Z[1],Z[2])-and-each-subsequent-row-is--shifted-by-1-(last-row-should-be-(Z[-3],Z[-2],Z[-1])-(★★★)\" data-toc-modified-id=\"76.-Consider-a-one-dimensional-array-Z,-build-a-two-dimensional-array-whose-first-row-is-(Z[0],Z[1],Z[2])-and-each-subsequent-row-is--shifted-by-1-(last-row-should-be-(Z[-3],Z[-2],Z[-1])-(★★★)-1.0.0.76\"><span class=\"toc-item-num\">1.0.0.76&nbsp;&nbsp;</span>76. Consider a one-dimensional array Z, build a two-dimensional array whose first row is (Z[0],Z[1],Z[2]) and each subsequent row is  shifted by 1 (last row should be (Z[-3],Z[-2],Z[-1]) (★★★)</a></span></li><li><span><a href=\"#77.-How-to-negate-a-boolean,-or-to-change-the-sign-of-a-float-inplace?-(★★★)\" data-toc-modified-id=\"77.-How-to-negate-a-boolean,-or-to-change-the-sign-of-a-float-inplace?-(★★★)-1.0.0.77\"><span class=\"toc-item-num\">1.0.0.77&nbsp;&nbsp;</span>77. How to negate a boolean, or to change the sign of a float inplace? (★★★)</a></span></li><li><span><a href=\"#78.-Consider-2-sets-of-points-P0,P1-describing-lines-(2d)-and-a-point-p,-how-to-compute-distance-from-p-to-each-line-i-(P0[i],P1[i])?-(★★★)\" data-toc-modified-id=\"78.-Consider-2-sets-of-points-P0,P1-describing-lines-(2d)-and-a-point-p,-how-to-compute-distance-from-p-to-each-line-i-(P0[i],P1[i])?-(★★★)-1.0.0.78\"><span class=\"toc-item-num\">1.0.0.78&nbsp;&nbsp;</span>78. Consider 2 sets of points P0,P1 describing lines (2d) and a point p, how to compute distance from p to each line i (P0[i],P1[i])? (★★★)</a></span></li><li><span><a href=\"#79.-Consider-2-sets-of-points-P0,P1-describing-lines-(2d)-and-a-set-of-points-P,-how-to-compute-distance-from-each-point-j-(P[j])-to-each-line-i-(P0[i],P1[i])?-(★★★)\" data-toc-modified-id=\"79.-Consider-2-sets-of-points-P0,P1-describing-lines-(2d)-and-a-set-of-points-P,-how-to-compute-distance-from-each-point-j-(P[j])-to-each-line-i-(P0[i],P1[i])?-(★★★)-1.0.0.79\"><span class=\"toc-item-num\">1.0.0.79&nbsp;&nbsp;</span>79. Consider 2 sets of points P0,P1 describing lines (2d) and a set of points P, how to compute distance from each point j (P[j]) to each line i (P0[i],P1[i])? (★★★)</a></span></li><li><span><a href=\"#80.-Consider-an-arbitrary-array,-write-a-function-that-extract-a-subpart-with-a-fixed-shape-and-centered-on-a-given-element-(pad-with-a-fill-value-when-necessary)-(★★★)\" data-toc-modified-id=\"80.-Consider-an-arbitrary-array,-write-a-function-that-extract-a-subpart-with-a-fixed-shape-and-centered-on-a-given-element-(pad-with-a-fill-value-when-necessary)-(★★★)-1.0.0.80\"><span class=\"toc-item-num\">1.0.0.80&nbsp;&nbsp;</span>80. Consider an arbitrary array, write a function that extract a subpart with a fixed shape and centered on a given element (pad with a <code>fill</code> value when necessary) (★★★)</a></span></li><li><span><a href=\"#81.-Consider-an-array-Z-=-[1,2,3,4,5,6,7,8,9,10,11,12,13,14],-how-to-generate-an-array-R-=-[[1,2,3,4],-[2,3,4,5],-[3,4,5,6],-...,-[11,12,13,14]]?-(★★★)\" data-toc-modified-id=\"81.-Consider-an-array-Z-=-[1,2,3,4,5,6,7,8,9,10,11,12,13,14],-how-to-generate-an-array-R-=-[[1,2,3,4],-[2,3,4,5],-[3,4,5,6],-...,-[11,12,13,14]]?-(★★★)-1.0.0.81\"><span class=\"toc-item-num\">1.0.0.81&nbsp;&nbsp;</span>81. Consider an array Z = [1,2,3,4,5,6,7,8,9,10,11,12,13,14], how to generate an array R = [[1,2,3,4], [2,3,4,5], [3,4,5,6], ..., [11,12,13,14]]? (★★★)</a></span></li><li><span><a href=\"#82.-Compute-a-matrix-rank-(★★★)\" data-toc-modified-id=\"82.-Compute-a-matrix-rank-(★★★)-1.0.0.82\"><span class=\"toc-item-num\">1.0.0.82&nbsp;&nbsp;</span>82. Compute a matrix rank (★★★)</a></span></li><li><span><a href=\"#83.-How-to-find-the-most-frequent-value-in-an-array?\" data-toc-modified-id=\"83.-How-to-find-the-most-frequent-value-in-an-array?-1.0.0.83\"><span class=\"toc-item-num\">1.0.0.83&nbsp;&nbsp;</span>83. How to find the most frequent value in an array?</a></span></li><li><span><a href=\"#84.-Extract-all-the-contiguous-3x3-blocks-from-a-random-10x10-matrix-(★★★)\" data-toc-modified-id=\"84.-Extract-all-the-contiguous-3x3-blocks-from-a-random-10x10-matrix-(★★★)-1.0.0.84\"><span class=\"toc-item-num\">1.0.0.84&nbsp;&nbsp;</span>84. Extract all the contiguous 3x3 blocks from a random 10x10 matrix (★★★)</a></span></li><li><span><a href=\"#85.-Create-a-2D-array-subclass-such-that-Z[i,j]-==-Z[j,i]-(★★★)\" data-toc-modified-id=\"85.-Create-a-2D-array-subclass-such-that-Z[i,j]-==-Z[j,i]-(★★★)-1.0.0.85\"><span class=\"toc-item-num\">1.0.0.85&nbsp;&nbsp;</span>85. Create a 2D array subclass such that Z[i,j] == Z[j,i] (★★★)</a></span></li><li><span><a href=\"#86.-Consider-a-set-of-p-matrices-wich-shape-(n,n)-and-a-set-of-p-vectors-with-shape-(n,1).-How-to-compute-the-sum-of-of-the-p-matrix-products-at-once?-(result-has-shape-(n,1))-(★★★)\" data-toc-modified-id=\"86.-Consider-a-set-of-p-matrices-wich-shape-(n,n)-and-a-set-of-p-vectors-with-shape-(n,1).-How-to-compute-the-sum-of-of-the-p-matrix-products-at-once?-(result-has-shape-(n,1))-(★★★)-1.0.0.86\"><span class=\"toc-item-num\">1.0.0.86&nbsp;&nbsp;</span>86. Consider a set of p matrices wich shape (n,n) and a set of p vectors with shape (n,1). How to compute the sum of of the p matrix products at once? (result has shape (n,1)) (★★★)</a></span></li><li><span><a href=\"#87.-Consider-a-16x16-array,-how-to-get-the-block-sum-(block-size-is-4x4)?-(★★★)\" data-toc-modified-id=\"87.-Consider-a-16x16-array,-how-to-get-the-block-sum-(block-size-is-4x4)?-(★★★)-1.0.0.87\"><span class=\"toc-item-num\">1.0.0.87&nbsp;&nbsp;</span>87. Consider a 16x16 array, how to get the block-sum (block size is 4x4)? (★★★)</a></span></li><li><span><a href=\"#88.-How-to-implement-the-Game-of-Life-using-numpy-arrays?-(★★★)\" data-toc-modified-id=\"88.-How-to-implement-the-Game-of-Life-using-numpy-arrays?-(★★★)-1.0.0.88\"><span class=\"toc-item-num\">1.0.0.88&nbsp;&nbsp;</span>88. How to implement the Game of Life using numpy arrays? (★★★)</a></span></li><li><span><a href=\"#89.-How-to-get-the-n-largest-values-of-an-array-(★★★)\" data-toc-modified-id=\"89.-How-to-get-the-n-largest-values-of-an-array-(★★★)-1.0.0.89\"><span class=\"toc-item-num\">1.0.0.89&nbsp;&nbsp;</span>89. How to get the n largest values of an array (★★★)</a></span></li><li><span><a href=\"#90.-Given-an-arbitrary-number-of-vectors,-build-the-cartesian-product-(every-combinations-of-every-item)-(★★★)\" data-toc-modified-id=\"90.-Given-an-arbitrary-number-of-vectors,-build-the-cartesian-product-(every-combinations-of-every-item)-(★★★)-1.0.0.90\"><span class=\"toc-item-num\">1.0.0.90&nbsp;&nbsp;</span>90. Given an arbitrary number of vectors, build the cartesian product (every combinations of every item) (★★★)</a></span></li><li><span><a href=\"#91.-How-to-create-a-record-array-from-a-regular-array?-(★★★)\" data-toc-modified-id=\"91.-How-to-create-a-record-array-from-a-regular-array?-(★★★)-1.0.0.91\"><span class=\"toc-item-num\">1.0.0.91&nbsp;&nbsp;</span>91. How to create a record array from a regular array? (★★★)</a></span></li><li><span><a href=\"#92.-Consider-a-large-vector-Z,-compute-Z-to-the-power-of-3-using-3-different-methods-(★★★)\" data-toc-modified-id=\"92.-Consider-a-large-vector-Z,-compute-Z-to-the-power-of-3-using-3-different-methods-(★★★)-1.0.0.92\"><span class=\"toc-item-num\">1.0.0.92&nbsp;&nbsp;</span>92. Consider a large vector Z, compute Z to the power of 3 using 3 different methods (★★★)</a></span></li><li><span><a href=\"#93.-Consider-two-arrays-A-and-B-of-shape-(8,3)-and-(2,2).-How-to-find-rows-of-A-that-contain-elements-of-each-row-of-B-regardless-of-the-order-of-the-elements-in-B?-(★★★)\" data-toc-modified-id=\"93.-Consider-two-arrays-A-and-B-of-shape-(8,3)-and-(2,2).-How-to-find-rows-of-A-that-contain-elements-of-each-row-of-B-regardless-of-the-order-of-the-elements-in-B?-(★★★)-1.0.0.93\"><span class=\"toc-item-num\">1.0.0.93&nbsp;&nbsp;</span>93. Consider two arrays A and B of shape (8,3) and (2,2). How to find rows of A that contain elements of each row of B regardless of the order of the elements in B? (★★★)</a></span></li><li><span><a href=\"#94.-Considering-a-10x3-matrix,-extract-rows-with-unequal-values-(e.g.-[2,2,3])-(★★★)\" data-toc-modified-id=\"94.-Considering-a-10x3-matrix,-extract-rows-with-unequal-values-(e.g.-[2,2,3])-(★★★)-1.0.0.94\"><span class=\"toc-item-num\">1.0.0.94&nbsp;&nbsp;</span>94. Considering a 10x3 matrix, extract rows with unequal values (e.g. [2,2,3]) (★★★)</a></span></li><li><span><a href=\"#95.-Convert-a-vector-of-ints-into-a-matrix-binary-representation-(★★★)\" data-toc-modified-id=\"95.-Convert-a-vector-of-ints-into-a-matrix-binary-representation-(★★★)-1.0.0.95\"><span class=\"toc-item-num\">1.0.0.95&nbsp;&nbsp;</span>95. Convert a vector of ints into a matrix binary representation (★★★)</a></span></li><li><span><a href=\"#96.-Given-a-two-dimensional-array,-how-to-extract-unique-rows?-(★★★)\" data-toc-modified-id=\"96.-Given-a-two-dimensional-array,-how-to-extract-unique-rows?-(★★★)-1.0.0.96\"><span class=\"toc-item-num\">1.0.0.96&nbsp;&nbsp;</span>96. Given a two dimensional array, how to extract unique rows? (★★★)</a></span></li><li><span><a href=\"#97.-Considering-2-vectors-A-&amp;-B,-write-the-einsum-equivalent-of-inner,-outer,-sum,-and-mul-function-(★★★)\" data-toc-modified-id=\"97.-Considering-2-vectors-A-&amp;-B,-write-the-einsum-equivalent-of-inner,-outer,-sum,-and-mul-function-(★★★)-1.0.0.97\"><span class=\"toc-item-num\">1.0.0.97&nbsp;&nbsp;</span>97. Considering 2 vectors A &amp; B, write the einsum equivalent of inner, outer, sum, and mul function (★★★)</a></span></li><li><span><a href=\"#98.-Considering-a-path-described-by-two-vectors-(X,Y),-how-to-sample-it-using-equidistant-samples-(★★★)?\" data-toc-modified-id=\"98.-Considering-a-path-described-by-two-vectors-(X,Y),-how-to-sample-it-using-equidistant-samples-(★★★)?-1.0.0.98\"><span class=\"toc-item-num\">1.0.0.98&nbsp;&nbsp;</span>98. Considering a path described by two vectors (X,Y), how to sample it using equidistant samples (★★★)?</a></span></li><li><span><a href=\"#99.-Given-an-integer-n-and-a-2D-array-X,-select-from-X-the-rows-which-can-be-interpreted-as-draws-from-a-multinomial-distribution-with-n-degrees,-i.e.,-the-rows-which-only-contain-integers-and-which-sum-to-n.-(★★★)\" data-toc-modified-id=\"99.-Given-an-integer-n-and-a-2D-array-X,-select-from-X-the-rows-which-can-be-interpreted-as-draws-from-a-multinomial-distribution-with-n-degrees,-i.e.,-the-rows-which-only-contain-integers-and-which-sum-to-n.-(★★★)-1.0.0.99\"><span class=\"toc-item-num\">1.0.0.99&nbsp;&nbsp;</span>99. Given an integer n and a 2D array X, select from X the rows which can be interpreted as draws from a multinomial distribution with n degrees, i.e., the rows which only contain integers and which sum to n. (★★★)</a></span></li><li><span><a href=\"#100.-Compute-bootstrapped-95%-confidence-intervals-for-the-mean-of-a-1D-array-X-(i.e.,-resample-the-elements-of-an-array-with-replacement-N-times,-compute-the-mean-of-each-sample,-and-then-compute-percentiles-over-the-means).-(★★★)\" data-toc-modified-id=\"100.-Compute-bootstrapped-95%-confidence-intervals-for-the-mean-of-a-1D-array-X-(i.e.,-resample-the-elements-of-an-array-with-replacement-N-times,-compute-the-mean-of-each-sample,-and-then-compute-percentiles-over-the-means).-(★★★)-1.0.0.100\"><span class=\"toc-item-num\">1.0.0.100&nbsp;&nbsp;</span>100. Compute bootstrapped 95% confidence intervals for the mean of a 1D array X (i.e., resample the elements of an array with replacement N times, compute the mean of each sample, and then compute percentiles over the means). (★★★)</a></span></li></ul></li></ul></li></ul></li></ul></div>"
   ]
  },
  {
   "cell_type": "markdown",
   "metadata": {},
   "source": [
    "# 100 numpy exercises\n",
    "\n",
    "This is a collection of exercises that have been collected in the numpy mailing list, on stack overflow\n",
    "and in the numpy documentation. The goal of this collection is to offer a quick reference for both old\n",
    "and new users but also to provide a set of exercises for those who teach.\n",
    "\n",
    "\n",
    "If you find an error or think you've a better way to solve some of them, feel\n",
    "free to open an issue at <https://github.com/rougier/numpy-100>."
   ]
  },
  {
   "cell_type": "markdown",
   "metadata": {},
   "source": [
    "File automatically generated. See the documentation to update questions/answers/hints programmatically."
   ]
  },
  {
   "cell_type": "markdown",
   "metadata": {},
   "source": [
    "Run the `initialize.py` module, then for each question you can query the\n",
    "answer or an hint with `hint(n)` or `answer(n)` for `n` question number."
   ]
  },
  {
   "cell_type": "code",
   "execution_count": 4,
   "metadata": {},
   "outputs": [],
   "source": [
    "%run initialise.py"
   ]
  },
  {
   "cell_type": "markdown",
   "metadata": {},
   "source": [
    "#### 1. Import the numpy package under the name `np` (★☆☆)"
   ]
  },
  {
   "cell_type": "code",
   "execution_count": 5,
   "metadata": {},
   "outputs": [
    {
     "name": "stdout",
     "output_type": "stream",
     "text": [
      "import numpy as np\n"
     ]
    }
   ],
   "source": [
    "import numpy as np\n",
    "\n",
    "answer(1)"
   ]
  },
  {
   "cell_type": "markdown",
   "metadata": {},
   "source": [
    "#### 2. Print the numpy version and the configuration (★☆☆)"
   ]
  },
  {
   "cell_type": "code",
   "execution_count": 6,
   "metadata": {},
   "outputs": [
    {
     "name": "stdout",
     "output_type": "stream",
     "text": [
      "1.16.4\n",
      "mkl_info:\n",
      "    libraries = ['mkl_rt', 'pthread']\n",
      "    library_dirs = ['/Users/aschul/anaconda3/lib']\n",
      "    define_macros = [('SCIPY_MKL_H', None), ('HAVE_CBLAS', None)]\n",
      "    include_dirs = ['/Users/aschul/anaconda3/include']\n",
      "blas_mkl_info:\n",
      "    libraries = ['mkl_rt', 'pthread']\n",
      "    library_dirs = ['/Users/aschul/anaconda3/lib']\n",
      "    define_macros = [('SCIPY_MKL_H', None), ('HAVE_CBLAS', None)]\n",
      "    include_dirs = ['/Users/aschul/anaconda3/include']\n",
      "blas_opt_info:\n",
      "    libraries = ['mkl_rt', 'pthread']\n",
      "    library_dirs = ['/Users/aschul/anaconda3/lib']\n",
      "    define_macros = [('SCIPY_MKL_H', None), ('HAVE_CBLAS', None)]\n",
      "    include_dirs = ['/Users/aschul/anaconda3/include']\n",
      "lapack_mkl_info:\n",
      "    libraries = ['mkl_rt', 'pthread']\n",
      "    library_dirs = ['/Users/aschul/anaconda3/lib']\n",
      "    define_macros = [('SCIPY_MKL_H', None), ('HAVE_CBLAS', None)]\n",
      "    include_dirs = ['/Users/aschul/anaconda3/include']\n",
      "lapack_opt_info:\n",
      "    libraries = ['mkl_rt', 'pthread']\n",
      "    library_dirs = ['/Users/aschul/anaconda3/lib']\n",
      "    define_macros = [('SCIPY_MKL_H', None), ('HAVE_CBLAS', None)]\n",
      "    include_dirs = ['/Users/aschul/anaconda3/include']\n",
      "None\n"
     ]
    }
   ],
   "source": [
    "print(np.__version__)\n",
    "print(np.show_config())"
   ]
  },
  {
   "cell_type": "markdown",
   "metadata": {},
   "source": [
    "#### 3. Create a null vector of size 10 (★☆☆)"
   ]
  },
  {
   "cell_type": "code",
   "execution_count": 12,
   "metadata": {},
   "outputs": [
    {
     "name": "stdout",
     "output_type": "stream",
     "text": [
      "Z = np.zeros(10)\n",
      "print(Z)\n"
     ]
    }
   ],
   "source": [
    "x = np.zeros(1000)\n",
    "\n",
    "answer(3)"
   ]
  },
  {
   "cell_type": "markdown",
   "metadata": {},
   "source": [
    "#### 4. How to find the memory size of any array (★☆☆)"
   ]
  },
  {
   "cell_type": "code",
   "execution_count": 15,
   "metadata": {},
   "outputs": [
    {
     "name": "stdout",
     "output_type": "stream",
     "text": [
      "Z = np.zeros((10,10))\n",
      "print(\"%d bytes\" % (Z.size * Z.itemsize))\n"
     ]
    }
   ],
   "source": [
    "x.itemsize * x.size\n",
    "\n",
    "answer(4)"
   ]
  },
  {
   "cell_type": "markdown",
   "metadata": {},
   "source": [
    "#### 5. How to get the documentation of the numpy add function from the command line? (★☆☆)"
   ]
  },
  {
   "cell_type": "code",
   "execution_count": 17,
   "metadata": {},
   "outputs": [
    {
     "name": "stdout",
     "output_type": "stream",
     "text": [
      "%run `python -c \"import numpy; numpy.info(numpy.add)\"`\n"
     ]
    }
   ],
   "source": [
    "np.add?\n",
    "\n",
    "answer(5)"
   ]
  },
  {
   "cell_type": "markdown",
   "metadata": {},
   "source": [
    "#### 6. Create a null vector of size 10 but the fifth value which is 1 (★☆☆)"
   ]
  },
  {
   "cell_type": "code",
   "execution_count": 23,
   "metadata": {},
   "outputs": [
    {
     "name": "stdout",
     "output_type": "stream",
     "text": [
      "[0. 0. 0. 0. 1. 0. 0. 0. 0. 0.]\n",
      "Z = np.zeros(10)\n",
      "Z[4] = 1\n",
      "print(Z)\n"
     ]
    }
   ],
   "source": [
    "x = np.zeros(10)\n",
    "x[4] = 1\n",
    "print(x)\n",
    "\n",
    "answer(6)"
   ]
  },
  {
   "cell_type": "markdown",
   "metadata": {},
   "source": [
    "#### 7. Create a vector with values ranging from 10 to 49 (★☆☆)"
   ]
  },
  {
   "cell_type": "code",
   "execution_count": 30,
   "metadata": {},
   "outputs": [
    {
     "name": "stdout",
     "output_type": "stream",
     "text": [
      "[10 11 12 13 14 15 16 17 18 19 20 21 22 23 24 25 26 27 28 29 30 31 32 33\n",
      " 34 35 36 37 38 39 40 41 42 43 44 45 46 47 48]\n"
     ]
    }
   ],
   "source": [
    "x = np.linspace(10, 49)\n",
    "x = np.arange(10, 49)\n",
    "print(x)"
   ]
  },
  {
   "cell_type": "code",
   "execution_count": 29,
   "metadata": {},
   "outputs": [
    {
     "name": "stdout",
     "output_type": "stream",
     "text": [
      "Z = np.arange(10,50)\n",
      "print(Z)\n"
     ]
    }
   ],
   "source": [
    "answer(7)"
   ]
  },
  {
   "cell_type": "code",
   "execution_count": 31,
   "metadata": {},
   "outputs": [],
   "source": [
    "np.arange?"
   ]
  },
  {
   "cell_type": "code",
   "execution_count": null,
   "metadata": {},
   "outputs": [],
   "source": []
  },
  {
   "cell_type": "markdown",
   "metadata": {},
   "source": [
    "#### 8. Reverse a vector (first element becomes last) (★☆☆)"
   ]
  },
  {
   "cell_type": "code",
   "execution_count": 38,
   "metadata": {},
   "outputs": [],
   "source": [
    "x = np.arange(0, 102, 2)"
   ]
  },
  {
   "cell_type": "code",
   "execution_count": 44,
   "metadata": {},
   "outputs": [],
   "source": [
    "x = np.flip(x)\n",
    "x = x[::-1]"
   ]
  },
  {
   "cell_type": "code",
   "execution_count": 45,
   "metadata": {},
   "outputs": [
    {
     "name": "stdout",
     "output_type": "stream",
     "text": [
      "Z = np.arange(50)\n",
      "Z = Z[::-1]\n",
      "print(Z)\n"
     ]
    }
   ],
   "source": [
    "answer(8)"
   ]
  },
  {
   "cell_type": "markdown",
   "metadata": {},
   "source": [
    "#### 9. Create a 3x3 matrix with values ranging from 0 to 8 (★☆☆)"
   ]
  },
  {
   "cell_type": "code",
   "execution_count": 53,
   "metadata": {},
   "outputs": [
    {
     "name": "stdout",
     "output_type": "stream",
     "text": [
      "[[0 1 2]\n",
      " [3 4 5]\n",
      " [6 7 8]]\n",
      "Z = np.arange(9).reshape(3, 3)\n",
      "print(Z)\n"
     ]
    }
   ],
   "source": [
    "x = np.arange(0, 9).reshape(3, 3)\n",
    "print(x)\n",
    "\n",
    "answer(9)"
   ]
  },
  {
   "cell_type": "markdown",
   "metadata": {},
   "source": [
    "#### 10. Find indices of non-zero elements from [1,2,0,0,4,0] (★☆☆)"
   ]
  },
  {
   "cell_type": "code",
   "execution_count": 67,
   "metadata": {},
   "outputs": [
    {
     "name": "stdout",
     "output_type": "stream",
     "text": [
      "(array([0, 1, 4]),)\n",
      "(array([0, 1, 4]),)\n",
      "nz = np.nonzero([1,2,0,0,4,0])\n",
      "print(nz)\n"
     ]
    }
   ],
   "source": [
    "x = np.array([1,2,0,0,4,0])\n",
    "\n",
    "non_z_indices_a = np.where(x != 0)\n",
    "non_z_indices_b = np.nonzero(x)\n",
    "\n",
    "print(non_z_indices_a)\n",
    "print(non_z_indices_b)\n",
    "\n",
    "answer(10)"
   ]
  },
  {
   "cell_type": "markdown",
   "metadata": {},
   "source": [
    "#### 11. Create a 3x3 identity matrix (★☆☆)"
   ]
  },
  {
   "cell_type": "code",
   "execution_count": 78,
   "metadata": {},
   "outputs": [
    {
     "name": "stdout",
     "output_type": "stream",
     "text": [
      "Z = np.eye(3)\n",
      "print(Z)\n"
     ]
    }
   ],
   "source": [
    "x = np.eye(3)\n",
    "answer(11)"
   ]
  },
  {
   "cell_type": "code",
   "execution_count": 81,
   "metadata": {},
   "outputs": [],
   "source": [
    "np.array?"
   ]
  },
  {
   "cell_type": "markdown",
   "metadata": {},
   "source": [
    "#### 12. Create a 3x3x3 array with random values (★☆☆)"
   ]
  },
  {
   "cell_type": "code",
   "execution_count": 95,
   "metadata": {},
   "outputs": [
    {
     "name": "stdout",
     "output_type": "stream",
     "text": [
      "Z = np.random.random((3,3,3))\n",
      "print(Z)\n"
     ]
    }
   ],
   "source": [
    "x = np.random.rand(3,3,3)\n",
    "answer(12)"
   ]
  },
  {
   "cell_type": "markdown",
   "metadata": {},
   "source": [
    "#### 13. Create a 10x10 array with random values and find the minimum and maximum values (★☆☆)"
   ]
  },
  {
   "cell_type": "code",
   "execution_count": 98,
   "metadata": {},
   "outputs": [
    {
     "name": "stdout",
     "output_type": "stream",
     "text": [
      "Z = np.random.random((10,10))\n",
      "Zmin, Zmax = Z.min(), Z.max()\n",
      "print(Zmin, Zmax)\n"
     ]
    }
   ],
   "source": [
    "x = np.random.rand(10, 10)\n",
    "x_min, x_max = x.min(), x.max()\n",
    "answer(13)"
   ]
  },
  {
   "cell_type": "code",
   "execution_count": 100,
   "metadata": {},
   "outputs": [
    {
     "name": "stdout",
     "output_type": "stream",
     "text": [
      "0.0016148746986738294\n",
      "0.9901744156569464\n"
     ]
    }
   ],
   "source": [
    "print(x_min)\n",
    "print(x_max)"
   ]
  },
  {
   "cell_type": "markdown",
   "metadata": {},
   "source": [
    "#### 14. Create a random vector of size 30 and find the mean value (★☆☆)"
   ]
  },
  {
   "cell_type": "code",
   "execution_count": 105,
   "metadata": {},
   "outputs": [
    {
     "name": "stdout",
     "output_type": "stream",
     "text": [
      "0.49700608760333853\n"
     ]
    }
   ],
   "source": [
    "x = np.random.rand(30)\n",
    "x_mean = np.mean(x)\n",
    "print(x_mean)"
   ]
  },
  {
   "cell_type": "markdown",
   "metadata": {},
   "source": [
    "#### 15. Create a 2d array with 1 on the border and 0 inside (★☆☆)"
   ]
  },
  {
   "cell_type": "code",
   "execution_count": null,
   "metadata": {},
   "outputs": [],
   "source": []
  },
  {
   "cell_type": "markdown",
   "metadata": {},
   "source": [
    "#### 16. How to add a border (filled with 0's) around an existing array? (★☆☆)"
   ]
  },
  {
   "cell_type": "code",
   "execution_count": null,
   "metadata": {},
   "outputs": [],
   "source": []
  },
  {
   "cell_type": "markdown",
   "metadata": {},
   "source": [
    "#### 17. What is the result of the following expression? (★☆☆)\n",
    "```python\n",
    "0 * np.nan\n",
    "np.nan == np.nan\n",
    "np.inf > np.nan\n",
    "np.nan - np.nan\n",
    "np.nan in set([np.nan])\n",
    "0.3 == 3 * 0.1\n",
    "```"
   ]
  },
  {
   "cell_type": "code",
   "execution_count": null,
   "metadata": {},
   "outputs": [],
   "source": []
  },
  {
   "cell_type": "markdown",
   "metadata": {},
   "source": [
    "#### 18. Create a 5x5 matrix with values 1,2,3,4 just below the diagonal (★☆☆)"
   ]
  },
  {
   "cell_type": "code",
   "execution_count": null,
   "metadata": {},
   "outputs": [],
   "source": []
  },
  {
   "cell_type": "markdown",
   "metadata": {},
   "source": [
    "#### 19. Create a 8x8 matrix and fill it with a checkerboard pattern (★☆☆)"
   ]
  },
  {
   "cell_type": "code",
   "execution_count": null,
   "metadata": {},
   "outputs": [],
   "source": []
  },
  {
   "cell_type": "markdown",
   "metadata": {},
   "source": [
    "#### 20. Consider a (6,7,8) shape array, what is the index (x,y,z) of the 100th element?"
   ]
  },
  {
   "cell_type": "code",
   "execution_count": null,
   "metadata": {},
   "outputs": [],
   "source": []
  },
  {
   "cell_type": "markdown",
   "metadata": {},
   "source": [
    "#### 21. Create a checkerboard 8x8 matrix using the tile function (★☆☆)"
   ]
  },
  {
   "cell_type": "code",
   "execution_count": null,
   "metadata": {},
   "outputs": [],
   "source": []
  },
  {
   "cell_type": "markdown",
   "metadata": {},
   "source": [
    "#### 22. Normalize a 5x5 random matrix (★☆☆)"
   ]
  },
  {
   "cell_type": "code",
   "execution_count": null,
   "metadata": {},
   "outputs": [],
   "source": []
  },
  {
   "cell_type": "markdown",
   "metadata": {},
   "source": [
    "#### 23. Create a custom dtype that describes a color as four unsigned bytes (RGBA) (★☆☆)"
   ]
  },
  {
   "cell_type": "code",
   "execution_count": null,
   "metadata": {},
   "outputs": [],
   "source": []
  },
  {
   "cell_type": "markdown",
   "metadata": {},
   "source": [
    "#### 24. Multiply a 5x3 matrix by a 3x2 matrix (real matrix product) (★☆☆)"
   ]
  },
  {
   "cell_type": "code",
   "execution_count": null,
   "metadata": {},
   "outputs": [],
   "source": []
  },
  {
   "cell_type": "markdown",
   "metadata": {},
   "source": [
    "#### 25. Given a 1D array, negate all elements which are between 3 and 8, in place. (★☆☆)"
   ]
  },
  {
   "cell_type": "code",
   "execution_count": null,
   "metadata": {},
   "outputs": [],
   "source": []
  },
  {
   "cell_type": "markdown",
   "metadata": {},
   "source": [
    "#### 26. What is the output of the following script? (★☆☆)\n",
    "```python\n",
    "# Author: Jake VanderPlas\n",
    "\n",
    "print(sum(range(5),-1))\n",
    "from numpy import *\n",
    "print(sum(range(5),-1))\n",
    "```"
   ]
  },
  {
   "cell_type": "code",
   "execution_count": null,
   "metadata": {},
   "outputs": [],
   "source": []
  },
  {
   "cell_type": "markdown",
   "metadata": {},
   "source": [
    "#### 27. Consider an integer vector Z, which of these expressions are legal? (★☆☆)\n",
    "```python\n",
    "Z**Z\n",
    "2 << Z >> 2\n",
    "Z <- Z\n",
    "1j*Z\n",
    "Z/1/1\n",
    "Z<Z>Z\n",
    "```"
   ]
  },
  {
   "cell_type": "code",
   "execution_count": null,
   "metadata": {},
   "outputs": [],
   "source": []
  },
  {
   "cell_type": "markdown",
   "metadata": {},
   "source": [
    "#### 28. What are the result of the following expressions?\n",
    "```python\n",
    "np.array(0) / np.array(0)\n",
    "np.array(0) // np.array(0)\n",
    "np.array([np.nan]).astype(int).astype(float)\n",
    "```"
   ]
  },
  {
   "cell_type": "code",
   "execution_count": null,
   "metadata": {},
   "outputs": [],
   "source": []
  },
  {
   "cell_type": "markdown",
   "metadata": {},
   "source": [
    "#### 29. How to round away from zero a float array ? (★☆☆)"
   ]
  },
  {
   "cell_type": "code",
   "execution_count": null,
   "metadata": {},
   "outputs": [],
   "source": []
  },
  {
   "cell_type": "markdown",
   "metadata": {},
   "source": [
    "#### 30. How to find common values between two arrays? (★☆☆)"
   ]
  },
  {
   "cell_type": "code",
   "execution_count": null,
   "metadata": {},
   "outputs": [],
   "source": []
  },
  {
   "cell_type": "markdown",
   "metadata": {},
   "source": [
    "#### 31. How to ignore all numpy warnings (not recommended)? (★☆☆)"
   ]
  },
  {
   "cell_type": "code",
   "execution_count": null,
   "metadata": {},
   "outputs": [],
   "source": []
  },
  {
   "cell_type": "markdown",
   "metadata": {},
   "source": [
    "#### 32. Is the following expressions true? (★☆☆)\n",
    "```python\n",
    "np.sqrt(-1) == np.emath.sqrt(-1)\n",
    "```"
   ]
  },
  {
   "cell_type": "code",
   "execution_count": null,
   "metadata": {},
   "outputs": [],
   "source": []
  },
  {
   "cell_type": "markdown",
   "metadata": {},
   "source": [
    "#### 33. How to get the dates of yesterday, today and tomorrow? (★☆☆)"
   ]
  },
  {
   "cell_type": "code",
   "execution_count": null,
   "metadata": {},
   "outputs": [],
   "source": []
  },
  {
   "cell_type": "markdown",
   "metadata": {},
   "source": [
    "#### 34. How to get all the dates corresponding to the month of July 2016? (★★☆)"
   ]
  },
  {
   "cell_type": "code",
   "execution_count": null,
   "metadata": {},
   "outputs": [],
   "source": []
  },
  {
   "cell_type": "markdown",
   "metadata": {},
   "source": [
    "#### 35. How to compute ((A+B)*(-A/2)) in place (without copy)? (★★☆)"
   ]
  },
  {
   "cell_type": "code",
   "execution_count": null,
   "metadata": {},
   "outputs": [],
   "source": []
  },
  {
   "cell_type": "markdown",
   "metadata": {},
   "source": [
    "#### 36. Extract the integer part of a random array of positive numbers using 4 different methods (★★☆)"
   ]
  },
  {
   "cell_type": "code",
   "execution_count": null,
   "metadata": {},
   "outputs": [],
   "source": []
  },
  {
   "cell_type": "markdown",
   "metadata": {},
   "source": [
    "#### 37. Create a 5x5 matrix with row values ranging from 0 to 4 (★★☆)"
   ]
  },
  {
   "cell_type": "code",
   "execution_count": null,
   "metadata": {},
   "outputs": [],
   "source": []
  },
  {
   "cell_type": "markdown",
   "metadata": {},
   "source": [
    "#### 38. Consider a generator function that generates 10 integers and use it to build an array (★☆☆)"
   ]
  },
  {
   "cell_type": "code",
   "execution_count": null,
   "metadata": {},
   "outputs": [],
   "source": []
  },
  {
   "cell_type": "markdown",
   "metadata": {},
   "source": [
    "#### 39. Create a vector of size 10 with values ranging from 0 to 1, both excluded (★★☆)"
   ]
  },
  {
   "cell_type": "code",
   "execution_count": null,
   "metadata": {},
   "outputs": [],
   "source": []
  },
  {
   "cell_type": "markdown",
   "metadata": {},
   "source": [
    "#### 40. Create a random vector of size 10 and sort it (★★☆)"
   ]
  },
  {
   "cell_type": "code",
   "execution_count": null,
   "metadata": {},
   "outputs": [],
   "source": []
  },
  {
   "cell_type": "markdown",
   "metadata": {},
   "source": [
    "#### 41. How to sum a small array faster than np.sum? (★★☆)"
   ]
  },
  {
   "cell_type": "code",
   "execution_count": null,
   "metadata": {},
   "outputs": [],
   "source": []
  },
  {
   "cell_type": "markdown",
   "metadata": {},
   "source": [
    "#### 42. Consider two random array A and B, check if they are equal (★★☆)"
   ]
  },
  {
   "cell_type": "code",
   "execution_count": null,
   "metadata": {},
   "outputs": [],
   "source": []
  },
  {
   "cell_type": "markdown",
   "metadata": {},
   "source": [
    "#### 43. Make an array immutable (read-only) (★★☆)"
   ]
  },
  {
   "cell_type": "code",
   "execution_count": null,
   "metadata": {},
   "outputs": [],
   "source": []
  },
  {
   "cell_type": "markdown",
   "metadata": {},
   "source": [
    "#### 44. Consider a random 10x2 matrix representing cartesian coordinates, convert them to polar coordinates (★★☆)"
   ]
  },
  {
   "cell_type": "code",
   "execution_count": null,
   "metadata": {},
   "outputs": [],
   "source": []
  },
  {
   "cell_type": "markdown",
   "metadata": {},
   "source": [
    "#### 45. Create random vector of size 10 and replace the maximum value by 0 (★★☆)"
   ]
  },
  {
   "cell_type": "code",
   "execution_count": null,
   "metadata": {},
   "outputs": [],
   "source": []
  },
  {
   "cell_type": "markdown",
   "metadata": {},
   "source": [
    "#### 46. Create a structured array with `x` and `y` coordinates covering the [0,1]x[0,1] area (★★☆)"
   ]
  },
  {
   "cell_type": "code",
   "execution_count": null,
   "metadata": {},
   "outputs": [],
   "source": []
  },
  {
   "cell_type": "markdown",
   "metadata": {},
   "source": [
    "#### 47. Given two arrays, X and Y, construct the Cauchy matrix C (Cij =1/(xi - yj))"
   ]
  },
  {
   "cell_type": "code",
   "execution_count": null,
   "metadata": {},
   "outputs": [],
   "source": []
  },
  {
   "cell_type": "markdown",
   "metadata": {},
   "source": [
    "#### 48. Print the minimum and maximum representable value for each numpy scalar type (★★☆)"
   ]
  },
  {
   "cell_type": "code",
   "execution_count": null,
   "metadata": {},
   "outputs": [],
   "source": []
  },
  {
   "cell_type": "markdown",
   "metadata": {},
   "source": [
    "#### 49. How to print all the values of an array? (★★☆)"
   ]
  },
  {
   "cell_type": "code",
   "execution_count": null,
   "metadata": {},
   "outputs": [],
   "source": []
  },
  {
   "cell_type": "markdown",
   "metadata": {},
   "source": [
    "#### 50. How to find the closest value (to a given scalar) in a vector? (★★☆)"
   ]
  },
  {
   "cell_type": "code",
   "execution_count": null,
   "metadata": {},
   "outputs": [],
   "source": []
  },
  {
   "cell_type": "markdown",
   "metadata": {},
   "source": [
    "#### 51. Create a structured array representing a position (x,y) and a color (r,g,b) (★★☆)"
   ]
  },
  {
   "cell_type": "code",
   "execution_count": null,
   "metadata": {},
   "outputs": [],
   "source": []
  },
  {
   "cell_type": "markdown",
   "metadata": {},
   "source": [
    "#### 52. Consider a random vector with shape (100,2) representing coordinates, find point by point distances (★★☆)"
   ]
  },
  {
   "cell_type": "code",
   "execution_count": null,
   "metadata": {},
   "outputs": [],
   "source": []
  },
  {
   "cell_type": "markdown",
   "metadata": {},
   "source": [
    "#### 53. How to convert a float (32 bits) array into an integer (32 bits) in place?"
   ]
  },
  {
   "cell_type": "code",
   "execution_count": null,
   "metadata": {},
   "outputs": [],
   "source": []
  },
  {
   "cell_type": "markdown",
   "metadata": {},
   "source": [
    "#### 54. How to read the following file? (★★☆)\n",
    "```\n",
    "1, 2, 3, 4, 5\n",
    "6,  ,  , 7, 8\n",
    " ,  , 9,10,11\n",
    "```"
   ]
  },
  {
   "cell_type": "code",
   "execution_count": null,
   "metadata": {},
   "outputs": [],
   "source": []
  },
  {
   "cell_type": "markdown",
   "metadata": {},
   "source": [
    "#### 55. What is the equivalent of enumerate for numpy arrays? (★★☆)"
   ]
  },
  {
   "cell_type": "code",
   "execution_count": null,
   "metadata": {},
   "outputs": [],
   "source": []
  },
  {
   "cell_type": "markdown",
   "metadata": {},
   "source": [
    "#### 56. Generate a generic 2D Gaussian-like array (★★☆)"
   ]
  },
  {
   "cell_type": "code",
   "execution_count": null,
   "metadata": {},
   "outputs": [],
   "source": []
  },
  {
   "cell_type": "markdown",
   "metadata": {},
   "source": [
    "#### 57. How to randomly place p elements in a 2D array? (★★☆)"
   ]
  },
  {
   "cell_type": "code",
   "execution_count": null,
   "metadata": {},
   "outputs": [],
   "source": []
  },
  {
   "cell_type": "markdown",
   "metadata": {},
   "source": [
    "#### 58. Subtract the mean of each row of a matrix (★★☆)"
   ]
  },
  {
   "cell_type": "code",
   "execution_count": null,
   "metadata": {},
   "outputs": [],
   "source": []
  },
  {
   "cell_type": "markdown",
   "metadata": {},
   "source": [
    "#### 59. How to sort an array by the nth column? (★★☆)"
   ]
  },
  {
   "cell_type": "code",
   "execution_count": null,
   "metadata": {},
   "outputs": [],
   "source": []
  },
  {
   "cell_type": "markdown",
   "metadata": {},
   "source": [
    "#### 60. How to tell if a given 2D array has null columns? (★★☆)"
   ]
  },
  {
   "cell_type": "code",
   "execution_count": null,
   "metadata": {},
   "outputs": [],
   "source": []
  },
  {
   "cell_type": "markdown",
   "metadata": {},
   "source": [
    "#### 61. Find the nearest value from a given value in an array (★★☆)"
   ]
  },
  {
   "cell_type": "code",
   "execution_count": null,
   "metadata": {},
   "outputs": [],
   "source": []
  },
  {
   "cell_type": "markdown",
   "metadata": {},
   "source": [
    "#### 62. Considering two arrays with shape (1,3) and (3,1), how to compute their sum using an iterator? (★★☆)"
   ]
  },
  {
   "cell_type": "code",
   "execution_count": null,
   "metadata": {},
   "outputs": [],
   "source": []
  },
  {
   "cell_type": "markdown",
   "metadata": {},
   "source": [
    "#### 63. Create an array class that has a name attribute (★★☆)"
   ]
  },
  {
   "cell_type": "code",
   "execution_count": null,
   "metadata": {},
   "outputs": [],
   "source": []
  },
  {
   "cell_type": "markdown",
   "metadata": {},
   "source": [
    "#### 64. Consider a given vector, how to add 1 to each element indexed by a second vector (be careful with repeated indices)? (★★★)"
   ]
  },
  {
   "cell_type": "code",
   "execution_count": null,
   "metadata": {},
   "outputs": [],
   "source": []
  },
  {
   "cell_type": "markdown",
   "metadata": {},
   "source": [
    "#### 65. How to accumulate elements of a vector (X) to an array (F) based on an index list (I)? (★★★)"
   ]
  },
  {
   "cell_type": "code",
   "execution_count": null,
   "metadata": {},
   "outputs": [],
   "source": []
  },
  {
   "cell_type": "markdown",
   "metadata": {},
   "source": [
    "#### 66. Considering a (w,h,3) image of (dtype=ubyte), compute the number of unique colors (★★★)"
   ]
  },
  {
   "cell_type": "code",
   "execution_count": null,
   "metadata": {},
   "outputs": [],
   "source": []
  },
  {
   "cell_type": "markdown",
   "metadata": {},
   "source": [
    "#### 67. Considering a four dimensions array, how to get sum over the last two axis at once? (★★★)"
   ]
  },
  {
   "cell_type": "code",
   "execution_count": null,
   "metadata": {},
   "outputs": [],
   "source": []
  },
  {
   "cell_type": "markdown",
   "metadata": {},
   "source": [
    "#### 68. Considering a one-dimensional vector D, how to compute means of subsets of D using a vector S of same size describing subset  indices? (★★★)"
   ]
  },
  {
   "cell_type": "code",
   "execution_count": null,
   "metadata": {},
   "outputs": [],
   "source": []
  },
  {
   "cell_type": "markdown",
   "metadata": {},
   "source": [
    "#### 69. How to get the diagonal of a dot product? (★★★)"
   ]
  },
  {
   "cell_type": "code",
   "execution_count": null,
   "metadata": {},
   "outputs": [],
   "source": []
  },
  {
   "cell_type": "markdown",
   "metadata": {},
   "source": [
    "#### 70. Consider the vector [1, 2, 3, 4, 5], how to build a new vector with 3 consecutive zeros interleaved between each value? (★★★)"
   ]
  },
  {
   "cell_type": "code",
   "execution_count": null,
   "metadata": {},
   "outputs": [],
   "source": []
  },
  {
   "cell_type": "markdown",
   "metadata": {},
   "source": [
    "#### 71. Consider an array of dimension (5,5,3), how to mulitply it by an array with dimensions (5,5)? (★★★)"
   ]
  },
  {
   "cell_type": "code",
   "execution_count": null,
   "metadata": {},
   "outputs": [],
   "source": []
  },
  {
   "cell_type": "markdown",
   "metadata": {},
   "source": [
    "#### 72. How to swap two rows of an array? (★★★)"
   ]
  },
  {
   "cell_type": "code",
   "execution_count": null,
   "metadata": {},
   "outputs": [],
   "source": []
  },
  {
   "cell_type": "markdown",
   "metadata": {},
   "source": [
    "#### 73. Consider a set of 10 triplets describing 10 triangles (with shared vertices), find the set of unique line segments composing all the  triangles (★★★)"
   ]
  },
  {
   "cell_type": "code",
   "execution_count": null,
   "metadata": {},
   "outputs": [],
   "source": []
  },
  {
   "cell_type": "markdown",
   "metadata": {},
   "source": [
    "#### 74. Given an array C that is a bincount, how to produce an array A such that np.bincount(A) == C? (★★★)"
   ]
  },
  {
   "cell_type": "code",
   "execution_count": null,
   "metadata": {},
   "outputs": [],
   "source": []
  },
  {
   "cell_type": "markdown",
   "metadata": {},
   "source": [
    "#### 75. How to compute averages using a sliding window over an array? (★★★)"
   ]
  },
  {
   "cell_type": "code",
   "execution_count": null,
   "metadata": {},
   "outputs": [],
   "source": []
  },
  {
   "cell_type": "markdown",
   "metadata": {},
   "source": [
    "#### 76. Consider a one-dimensional array Z, build a two-dimensional array whose first row is (Z[0],Z[1],Z[2]) and each subsequent row is  shifted by 1 (last row should be (Z[-3],Z[-2],Z[-1]) (★★★)"
   ]
  },
  {
   "cell_type": "code",
   "execution_count": null,
   "metadata": {},
   "outputs": [],
   "source": []
  },
  {
   "cell_type": "markdown",
   "metadata": {},
   "source": [
    "#### 77. How to negate a boolean, or to change the sign of a float inplace? (★★★)"
   ]
  },
  {
   "cell_type": "code",
   "execution_count": null,
   "metadata": {},
   "outputs": [],
   "source": []
  },
  {
   "cell_type": "markdown",
   "metadata": {},
   "source": [
    "#### 78. Consider 2 sets of points P0,P1 describing lines (2d) and a point p, how to compute distance from p to each line i (P0[i],P1[i])? (★★★)"
   ]
  },
  {
   "cell_type": "code",
   "execution_count": null,
   "metadata": {},
   "outputs": [],
   "source": []
  },
  {
   "cell_type": "markdown",
   "metadata": {},
   "source": [
    "#### 79. Consider 2 sets of points P0,P1 describing lines (2d) and a set of points P, how to compute distance from each point j (P[j]) to each line i (P0[i],P1[i])? (★★★)"
   ]
  },
  {
   "cell_type": "code",
   "execution_count": null,
   "metadata": {},
   "outputs": [],
   "source": []
  },
  {
   "cell_type": "markdown",
   "metadata": {},
   "source": [
    "#### 80. Consider an arbitrary array, write a function that extract a subpart with a fixed shape and centered on a given element (pad with a `fill` value when necessary) (★★★)"
   ]
  },
  {
   "cell_type": "code",
   "execution_count": null,
   "metadata": {},
   "outputs": [],
   "source": []
  },
  {
   "cell_type": "markdown",
   "metadata": {},
   "source": [
    "#### 81. Consider an array Z = [1,2,3,4,5,6,7,8,9,10,11,12,13,14], how to generate an array R = [[1,2,3,4], [2,3,4,5], [3,4,5,6], ..., [11,12,13,14]]? (★★★)"
   ]
  },
  {
   "cell_type": "code",
   "execution_count": null,
   "metadata": {},
   "outputs": [],
   "source": []
  },
  {
   "cell_type": "markdown",
   "metadata": {},
   "source": [
    "#### 82. Compute a matrix rank (★★★)"
   ]
  },
  {
   "cell_type": "code",
   "execution_count": null,
   "metadata": {},
   "outputs": [],
   "source": []
  },
  {
   "cell_type": "markdown",
   "metadata": {},
   "source": [
    "#### 83. How to find the most frequent value in an array?"
   ]
  },
  {
   "cell_type": "code",
   "execution_count": null,
   "metadata": {},
   "outputs": [],
   "source": []
  },
  {
   "cell_type": "markdown",
   "metadata": {},
   "source": [
    "#### 84. Extract all the contiguous 3x3 blocks from a random 10x10 matrix (★★★)"
   ]
  },
  {
   "cell_type": "code",
   "execution_count": null,
   "metadata": {},
   "outputs": [],
   "source": []
  },
  {
   "cell_type": "markdown",
   "metadata": {},
   "source": [
    "#### 85. Create a 2D array subclass such that Z[i,j] == Z[j,i] (★★★)"
   ]
  },
  {
   "cell_type": "code",
   "execution_count": null,
   "metadata": {},
   "outputs": [],
   "source": []
  },
  {
   "cell_type": "markdown",
   "metadata": {},
   "source": [
    "#### 86. Consider a set of p matrices wich shape (n,n) and a set of p vectors with shape (n,1). How to compute the sum of of the p matrix products at once? (result has shape (n,1)) (★★★)"
   ]
  },
  {
   "cell_type": "code",
   "execution_count": null,
   "metadata": {},
   "outputs": [],
   "source": []
  },
  {
   "cell_type": "markdown",
   "metadata": {},
   "source": [
    "#### 87. Consider a 16x16 array, how to get the block-sum (block size is 4x4)? (★★★)"
   ]
  },
  {
   "cell_type": "code",
   "execution_count": null,
   "metadata": {},
   "outputs": [],
   "source": []
  },
  {
   "cell_type": "markdown",
   "metadata": {},
   "source": [
    "#### 88. How to implement the Game of Life using numpy arrays? (★★★)"
   ]
  },
  {
   "cell_type": "code",
   "execution_count": null,
   "metadata": {},
   "outputs": [],
   "source": []
  },
  {
   "cell_type": "markdown",
   "metadata": {},
   "source": [
    "#### 89. How to get the n largest values of an array (★★★)"
   ]
  },
  {
   "cell_type": "code",
   "execution_count": null,
   "metadata": {},
   "outputs": [],
   "source": []
  },
  {
   "cell_type": "markdown",
   "metadata": {},
   "source": [
    "#### 90. Given an arbitrary number of vectors, build the cartesian product (every combinations of every item) (★★★)"
   ]
  },
  {
   "cell_type": "code",
   "execution_count": null,
   "metadata": {},
   "outputs": [],
   "source": []
  },
  {
   "cell_type": "markdown",
   "metadata": {},
   "source": [
    "#### 91. How to create a record array from a regular array? (★★★)"
   ]
  },
  {
   "cell_type": "code",
   "execution_count": null,
   "metadata": {},
   "outputs": [],
   "source": []
  },
  {
   "cell_type": "markdown",
   "metadata": {},
   "source": [
    "#### 92. Consider a large vector Z, compute Z to the power of 3 using 3 different methods (★★★)"
   ]
  },
  {
   "cell_type": "code",
   "execution_count": null,
   "metadata": {},
   "outputs": [],
   "source": []
  },
  {
   "cell_type": "markdown",
   "metadata": {},
   "source": [
    "#### 93. Consider two arrays A and B of shape (8,3) and (2,2). How to find rows of A that contain elements of each row of B regardless of the order of the elements in B? (★★★)"
   ]
  },
  {
   "cell_type": "code",
   "execution_count": null,
   "metadata": {},
   "outputs": [],
   "source": []
  },
  {
   "cell_type": "markdown",
   "metadata": {},
   "source": [
    "#### 94. Considering a 10x3 matrix, extract rows with unequal values (e.g. [2,2,3]) (★★★)"
   ]
  },
  {
   "cell_type": "code",
   "execution_count": null,
   "metadata": {},
   "outputs": [],
   "source": []
  },
  {
   "cell_type": "markdown",
   "metadata": {},
   "source": [
    "#### 95. Convert a vector of ints into a matrix binary representation (★★★)"
   ]
  },
  {
   "cell_type": "code",
   "execution_count": null,
   "metadata": {},
   "outputs": [],
   "source": []
  },
  {
   "cell_type": "markdown",
   "metadata": {},
   "source": [
    "#### 96. Given a two dimensional array, how to extract unique rows? (★★★)"
   ]
  },
  {
   "cell_type": "code",
   "execution_count": null,
   "metadata": {},
   "outputs": [],
   "source": []
  },
  {
   "cell_type": "markdown",
   "metadata": {},
   "source": [
    "#### 97. Considering 2 vectors A & B, write the einsum equivalent of inner, outer, sum, and mul function (★★★)"
   ]
  },
  {
   "cell_type": "code",
   "execution_count": null,
   "metadata": {},
   "outputs": [],
   "source": []
  },
  {
   "cell_type": "markdown",
   "metadata": {},
   "source": [
    "#### 98. Considering a path described by two vectors (X,Y), how to sample it using equidistant samples (★★★)?"
   ]
  },
  {
   "cell_type": "code",
   "execution_count": null,
   "metadata": {},
   "outputs": [],
   "source": []
  },
  {
   "cell_type": "markdown",
   "metadata": {},
   "source": [
    "#### 99. Given an integer n and a 2D array X, select from X the rows which can be interpreted as draws from a multinomial distribution with n degrees, i.e., the rows which only contain integers and which sum to n. (★★★)"
   ]
  },
  {
   "cell_type": "code",
   "execution_count": null,
   "metadata": {},
   "outputs": [],
   "source": []
  },
  {
   "cell_type": "markdown",
   "metadata": {},
   "source": [
    "#### 100. Compute bootstrapped 95% confidence intervals for the mean of a 1D array X (i.e., resample the elements of an array with replacement N times, compute the mean of each sample, and then compute percentiles over the means). (★★★)"
   ]
  },
  {
   "cell_type": "code",
   "execution_count": null,
   "metadata": {},
   "outputs": [],
   "source": []
  }
 ],
 "metadata": {
  "kernelspec": {
   "display_name": "Python 3",
   "language": "python",
   "name": "python3"
  },
  "language_info": {
   "codemirror_mode": {
    "name": "ipython",
    "version": 3
   },
   "file_extension": ".py",
   "mimetype": "text/x-python",
   "name": "python",
   "nbconvert_exporter": "python",
   "pygments_lexer": "ipython3",
   "version": "3.7.7"
  },
  "toc": {
   "base_numbering": 1,
   "nav_menu": {},
   "number_sections": true,
   "sideBar": true,
   "skip_h1_title": false,
   "title_cell": "Table of Contents",
   "title_sidebar": "Contents",
   "toc_cell": true,
   "toc_position": {},
   "toc_section_display": true,
   "toc_window_display": false
  }
 },
 "nbformat": 4,
 "nbformat_minor": 4
}
